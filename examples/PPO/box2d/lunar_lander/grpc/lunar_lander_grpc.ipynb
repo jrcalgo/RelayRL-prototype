{
 "cells": [
  {
   "cell_type": "code",
   "execution_count": 1,
   "metadata": {},
   "outputs": [],
   "source": [
    "from relayrl_framework import RelayRLAgent, TrainingServer\n",
    "import gymnasium as gym\n",
    "import numpy as np"
   ]
  },
  {
   "cell_type": "code",
   "execution_count": 2,
   "metadata": {},
   "outputs": [],
   "source": [
    "def train_lunar_lander(num_episodes=100, config_path: str = \".\", server_type: str = \"GRPC\"):\n",
    "    env = gym.make('LunarLander-v3')\n",
    "    agent = RelayRLAgent(\n",
    "        config_path=config_path,\n",
    "        server_type=server_type\n",
    "    )\n",
    "\n",
    "    for episode in range(num_episodes):\n",
    "        obs, _ = env.reset()\n",
    "        done = False\n",
    "        total_reward = 0\n",
    "        mask = np.ones(env.action_space.n, dtype=np.float32)\n",
    "        reward = 0.0\n",
    "        while not done:\n",
    "            action_obj = agent.request_for_action(obs, mask, reward)\n",
    "            action_value = int(action_obj.get_act())\n",
    "            next_obs, reward, terminated, truncated, _ = env.step(action_value)\n",
    "            done = terminated or truncated\n",
    "            agent.flag_last_action(reward)\n",
    "            obs = next_obs\n",
    "            total_reward += reward\n",
    "        print(f'#### Episode {episode+1}: Total Reward = {total_reward} ####')\n",
    "    env.close()"
   ]
  },
  {
   "cell_type": "code",
   "execution_count": null,
   "metadata": {},
   "outputs": [],
   "source": [
    "def main(\n",
    "    buf_size: int = 1000000,\n",
    "    tensorboard: bool = True,\n",
    "    env_dir: str = \".\",\n",
    "    algorithm_dir: str = None,\n",
    "    config_path: str = None,\n",
    "    hyperparams: dict = None,\n",
    "    server_type: str = \"GRPC\",\n",
    "    training_prefix: str = None,\n",
    "    training_host: str = None,\n",
    "    training_port: str = None\n",
    "    ):\n",
    "\n",
    "    _server: TrainingServer = TrainingServer(\n",
    "        algorithm_name=\"PPO\",\n",
    "        obs_dim=8,\n",
    "        act_dim=4,\n",
    "        buf_size=buf_size,\n",
    "        tensorboard=tensorboard,\n",
    "        env_dir=env_dir,\n",
    "        algorithm_dir=algorithm_dir,\n",
    "        config_path=config_path,\n",
    "        hyperparams=hyperparams,\n",
    "        server_type=server_type,\n",
    "        training_prefix=training_prefix,\n",
    "        training_host=training_host,\n",
    "        training_port=training_port\n",
    "    )\n",
    "\n",
    "    train_lunar_lander(num_episodes=10, config_path=config_path, server_type=server_type)\n"
   ]
  },
  {
   "cell_type": "code",
   "execution_count": null,
   "metadata": {},
   "outputs": [],
   "source": [
    "main()"
   ]
  }
 ],
 "metadata": {
  "kernelspec": {
   "display_name": "build_env",
   "language": "python",
   "name": "python3"
  },
  "language_info": {
   "codemirror_mode": {
    "name": "ipython",
    "version": 3
   },
   "file_extension": ".py",
   "mimetype": "text/x-python",
   "name": "python",
   "nbconvert_exporter": "python",
   "pygments_lexer": "ipython3",
   "version": "3.9.19"
  }
 },
 "nbformat": 4,
 "nbformat_minor": 2
}

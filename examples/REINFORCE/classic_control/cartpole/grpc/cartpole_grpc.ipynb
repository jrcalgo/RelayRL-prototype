{
 "cells": [
  {
   "cell_type": "code",
   "metadata": {
    "ExecuteTime": {
     "end_time": "2025-06-26T18:41:51.332248Z",
     "start_time": "2025-06-26T18:41:50.907182Z"
    }
   },
   "source": [
    "from relayrl_framework import RelayRLAgent, TrainingServer\n",
    "import gymnasium as gym\n",
    "import numpy as np"
   ],
   "outputs": [
    {
     "ename": "ImportError",
     "evalue": "dlopen(/opt/miniconda3/envs/dl/lib/python3.10/site-packages/relayrl_framework/relayrl_framework.cpython-310-darwin.so, 0x0002): Library not loaded: @rpath/libtorch_python.dylib\n  Referenced from: <2244DBD1-15A9-32BD-8769-621DACE20B7B> /opt/miniconda3/envs/dl/lib/python3.10/site-packages/relayrl_framework/relayrl_framework.cpython-310-darwin.so\n  Reason: tried: '/opt/miniconda3/envs/dl/bin/../lib/libtorch_python.dylib' (no such file), '/opt/miniconda3/envs/dl/bin/../lib/libtorch_python.dylib' (no such file)",
     "output_type": "error",
     "traceback": [
      "\u001B[0;31m---------------------------------------------------------------------------\u001B[0m",
      "\u001B[0;31mImportError\u001B[0m                               Traceback (most recent call last)",
      "Cell \u001B[0;32mIn[1], line 1\u001B[0m\n\u001B[0;32m----> 1\u001B[0m \u001B[38;5;28;01mfrom\u001B[39;00m \u001B[38;5;21;01mrelayrl_framework\u001B[39;00m \u001B[38;5;28;01mimport\u001B[39;00m RelayRLAgent, TrainingServer\n\u001B[1;32m      2\u001B[0m \u001B[38;5;28;01mimport\u001B[39;00m \u001B[38;5;21;01mgymnasium\u001B[39;00m \u001B[38;5;28;01mas\u001B[39;00m \u001B[38;5;21;01mgym\u001B[39;00m\n\u001B[1;32m      3\u001B[0m \u001B[38;5;28;01mimport\u001B[39;00m \u001B[38;5;21;01mnumpy\u001B[39;00m \u001B[38;5;28;01mas\u001B[39;00m \u001B[38;5;21;01mnp\u001B[39;00m\n",
      "File \u001B[0;32m/opt/miniconda3/envs/dl/lib/python3.10/site-packages/relayrl_framework/__init__.py:1\u001B[0m\n\u001B[0;32m----> 1\u001B[0m \u001B[38;5;28;01mfrom\u001B[39;00m \u001B[38;5;21;01m.\u001B[39;00m\u001B[38;5;21;01mrelayrl_framework\u001B[39;00m \u001B[38;5;28;01mimport\u001B[39;00m \u001B[38;5;241m*\u001B[39m\n\u001B[1;32m      3\u001B[0m \u001B[38;5;18m__doc__\u001B[39m \u001B[38;5;241m=\u001B[39m relayrl_framework\u001B[38;5;241m.\u001B[39m\u001B[38;5;18m__doc__\u001B[39m\n\u001B[1;32m      4\u001B[0m \u001B[38;5;28;01mif\u001B[39;00m \u001B[38;5;28mhasattr\u001B[39m(relayrl_framework, \u001B[38;5;124m\"\u001B[39m\u001B[38;5;124m__all__\u001B[39m\u001B[38;5;124m\"\u001B[39m):\n",
      "\u001B[0;31mImportError\u001B[0m: dlopen(/opt/miniconda3/envs/dl/lib/python3.10/site-packages/relayrl_framework/relayrl_framework.cpython-310-darwin.so, 0x0002): Library not loaded: @rpath/libtorch_python.dylib\n  Referenced from: <2244DBD1-15A9-32BD-8769-621DACE20B7B> /opt/miniconda3/envs/dl/lib/python3.10/site-packages/relayrl_framework/relayrl_framework.cpython-310-darwin.so\n  Reason: tried: '/opt/miniconda3/envs/dl/bin/../lib/libtorch_python.dylib' (no such file), '/opt/miniconda3/envs/dl/bin/../lib/libtorch_python.dylib' (no such file)"
     ]
    }
   ],
   "execution_count": 1
  },
  {
   "cell_type": "code",
   "metadata": {
    "ExecuteTime": {
     "end_time": "2025-06-26T18:41:51.335688Z",
     "start_time": "2025-06-26T18:41:51.335610Z"
    }
   },
   "source": [
    "def train_cartpole(num_episodes=100, config_path: str = \".\", server_type: str = \"GRPC\"):\n",
    "    env = gym.make('CartPole-v1')\n",
    "    agent = RelayRLAgent(\n",
    "        config_path=config_path,\n",
    "        server_type=server_type\n",
    "    )\n",
    "\n",
    "    for episode in range(num_episodes):\n",
    "        obs, _ = env.reset()\n",
    "        done = False\n",
    "        total_reward = 0\n",
    "        mask = np.ones(env.action_space.n, dtype=np.float32)\n",
    "        reward = 0.0\n",
    "        while not done:\n",
    "            action_obj = agent.request_for_action(obs, mask, reward)\n",
    "            action_value = int(action_obj.get_act())\n",
    "            next_obs, reward, terminated, truncated, _ = env.step(action_value)\n",
    "            done = terminated or truncated\n",
    "            agent.flag_last_action(reward)\n",
    "            obs = next_obs\n",
    "            total_reward += reward\n",
    "        print(f'#### Episode {episode+1}: Total Reward = {total_reward} ####')\n",
    "    env.close()"
   ],
   "outputs": [],
   "execution_count": null
  },
  {
   "cell_type": "code",
   "metadata": {},
   "source": [
    "def main(\n",
    "    buf_size: int = 1000000,\n",
    "    tensorboard: bool = True,\n",
    "    env_dir: str = \".\",\n",
    "    algorithm_dir: str = None,\n",
    "    config_path: str = None,\n",
    "    hyperparams: dict = None,\n",
    "    server_type: str = \"GRPC\",\n",
    "    training_prefix: str = None,\n",
    "    training_host: str = None,\n",
    "    training_port: str = None\n",
    "    ):\n",
    "\n",
    "    _server: TrainingServer = TrainingServer(\n",
    "        algorithm_name=\"REINFORCE\",\n",
    "        obs_dim=4,\n",
    "        act_dim=2,\n",
    "        buf_size=buf_size,\n",
    "        tensorboard=tensorboard,\n",
    "        env_dir=env_dir,\n",
    "        algorithm_dir=algorithm_dir,\n",
    "        config_path=config_path,\n",
    "        hyperparams=hyperparams,\n",
    "        server_type=server_type,\n",
    "        training_prefix=training_prefix,\n",
    "        training_host=training_host,\n",
    "        training_port=training_port\n",
    "    )\n",
    "\n",
    "    train_cartpole(num_episodes=10, config_path=config_path, server_type=server_type)"
   ],
   "outputs": [],
   "execution_count": null
  },
  {
   "cell_type": "code",
   "metadata": {},
   "source": [
    "main()"
   ],
   "outputs": [],
   "execution_count": null
  }
 ],
 "metadata": {
  "kernelspec": {
   "display_name": "build_env",
   "language": "python",
   "name": "python3"
  },
  "language_info": {
   "codemirror_mode": {
    "name": "ipython",
    "version": 3
   },
   "file_extension": ".py",
   "mimetype": "text/x-python",
   "name": "python",
   "nbconvert_exporter": "python",
   "pygments_lexer": "ipython3",
   "version": "3.9.19"
  }
 },
 "nbformat": 4,
 "nbformat_minor": 2
}
